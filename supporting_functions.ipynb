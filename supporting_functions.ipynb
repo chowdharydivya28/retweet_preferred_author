{
 "cells": [
  {
   "cell_type": "code",
   "execution_count": 2,
   "metadata": {},
   "outputs": [],
   "source": [
    "def get_tweet_features_per_row(row):\n",
    "        #USER features\n",
    "#         try:\n",
    "        user_id = row['user.id_str_h']\n",
    "        user_screen_name = row['user.screen_name_h']\n",
    "        user_tz = row['user.time_zone']\n",
    "        user_statuses_count = row['user.statuses_count']\n",
    "        user_location = row['user.location']\n",
    "        user_listed_count = row['user.listed_count']\n",
    "        user_lang = row['user.lang']\n",
    "        user_friends_count = row['user.friends_count']\n",
    "        user_followers_count = row['user.followers_count'] # these are other users that the user follows\n",
    "        user_following = row['user.following'] # this is mostly None\n",
    "        user_favourites_count = row['user.favourites_count']\n",
    "        user_description_m = row['user.description_m']\n",
    "        user_created_at = row['user.created_at'] # use this to later create feature called twitter_age of user for any tweet\n",
    "        # TWEET features\n",
    "        id_str_h = row['id_str_h']\n",
    "        lang = row['lang']\n",
    "        place = row['place']\n",
    "#         place_name = row['place.full_name']\n",
    "        content_language = row['content_language']\n",
    "        created_at = row['created_at']\n",
    "        hashtags = row['entities.hashtags']\n",
    "        tweet_has_media = False if pd.isna(row['entities.media']) else True\n",
    "        symbols = row['entities.symbols']\n",
    "        tweet_has_symbol = True if len(row['entities.symbols']) > 0 else False\n",
    "        user_mentions = row['entities.user_mentions']\n",
    "        tweet_has_user_mentions = True if len(row['entities.user_mentions']) > 0 else False\n",
    "        extension_created_dow = row['extension.created_dow']\n",
    "        extension_created_hod = row['extension.created_hod']\n",
    "#         retweeted_status_id_str_h = row['retweeted_status.id_str_h']\n",
    "        retweeted_status_user_id_str_h = row['retweeted_status.user.id_str_h']\n",
    "        quoted_status_id_str_h = row['quoted_status.id_str_h']\n",
    "        quoted_status_user_id_str_h = row['quoted_status.user.id_str_h']\n",
    "        text_m = row['text_m']\n",
    "        timestamp_ms = row['timestamp_ms']\n",
    "        retweeted_status_text_m = row['retweeted_status.text_m']\n",
    "#         except (RuntimeError, TypeError, NameError, ValueError):\n",
    "#             print(\"error in evaluation\")\n",
    "        return user_id, user_screen_name, user_tz, user_statuses_count, user_location, user_listed_count, user_lang, user_friends_count, user_followers_count, user_following, user_favourites_count, user_description_m, user_created_at, id_str_h, lang, place, content_language, created_at, hashtags, tweet_has_media, symbols, tweet_has_symbol, user_mentions, tweet_has_user_mentions, extension_created_dow, extension_created_hod, retweeted_status_user_id_str_h, quoted_status_id_str_h, quoted_status_user_id_str_h, text_m, timestamp_ms, retweeted_status_text_m\n",
    "\n",
    "\n",
    "def get_selected_columns_for_df(twitter_collection_dataframe_name):\n",
    "    df = pd.DataFrame()\n",
    "    df['user_id'], df['user_screen_name'], df['user_tz'], df['user_statuses_count'], df['user_location'], df['user_listed_count'], df['user_lang'], df['user_friends_count'], df['user_followers_count'], df['user_following'], df['user_favourites_count'], df['user_description_m'], df['user_created_at'], df['id_str_h'], df['lang'], df['place'], df['content_language'], df['created_at'], df['hashtags'], df['tweet_has_media'], df['symbols'], df['tweet_has_symbol'], df['user_mentions'], df['tweet_has_user_mentions'], df['extension_created_dow'], df['extension_created_hod'], df['retweeted_status_user_id_str_h'], df['quoted_status_id_str_h'], df['quoted_status_user_id_str_h'], df['text_m'], df['timestamp_ms'], df['retweeted_status_text_m']= zip(*twitter_collection_dataframe_name.apply(lambda row: get_tweet_features_per_row(row), axis = 1))\n",
    "    # Retweet related \n",
    "    df['retweeted_status_user_id_str_h'] = df['retweeted_status_user_id_str_h'].fillna(value = 0)\n",
    "    df['retweet_flag'] = df.apply(lambda r: False if r['retweeted_status_user_id_str_h'] == 0 else True, axis = 1)\n",
    "    # Quoted Tweet related\n",
    "    df['quoted_status_id_str_h'] = df['quoted_status_id_str_h'].fillna(value = 0)\n",
    "    df['quoted_status_user_id_str_h'] = df['quoted_status_user_id_str_h'].fillna(value = 0)\n",
    "    df['quoted_status_flag'] = df.apply(lambda r: False if r['quoted_status_id_str_h'] == 0 else True, axis = 1)\n",
    "    print(\"final data frame created for the given collection with shape: {}\".format(df.shape))\n",
    "    return df"
   ]
  },
  {
   "cell_type": "markdown",
   "metadata": {},
   "source": [
    "### Data unzipping and collecting JSON in mongo db"
   ]
  },
  {
   "cell_type": "code",
   "execution_count": null,
   "metadata": {},
   "outputs": [],
   "source": [
    "def db_exists(db_name):\n",
    "    \"\"\"\n",
    "    Returns True if database with name db_name exits.\n",
    "    :param db_name: database name\n",
    "    :return: True if database with name db_name exits.\n",
    "    \"\"\"\n",
    "    dbnames = mongo_client.list_database_names()\n",
    "    if db_name in dbnames:\n",
    "        return True\n",
    "    else:\n",
    "        return False\n",
    "\n",
    "\n",
    "def create_db(db_name):\n",
    "    \"\"\"\n",
    "    Creates a new database with a given name. It create a test collection 'test' with one record ['data':'test'] to\n",
    "    make sure that new database is instantiated in the mongodb.\n",
    "    :param db_name: new database name\n",
    "    :return: True if data base was created successfully\n",
    "    \"\"\"\n",
    "    new_db = mongo_client[db_name]\n",
    "    test_collection = new_db[\"test\"]\n",
    "    x = test_collection.insert_one({'data': 'test'})\n",
    "    if verbose_mode_on:\n",
    "        print(\"New database created, test collection added. \" + str(x.inserted_id))\n",
    "\n",
    "    return True\n",
    "\n",
    "\n",
    "def delete_db(db_name):\n",
    "    \"\"\"\n",
    "    Removes database with a given name.\n",
    "    :param db_name: database name\n",
    "    :return: None\n",
    "    \"\"\"\n",
    "    mongo_client.drop_database(db_name)\n",
    "\n",
    "    if verbose_mode_on:\n",
    "        print(\"Database \" + str(db_name) + \" was dropped.\")\n",
    "\n",
    "    return\n"
   ]
  },
  {
   "cell_type": "markdown",
   "metadata": {},
   "source": [
    "### find preferred authors for each user in a given data (of a given duration)"
   ]
  },
  {
   "cell_type": "code",
   "execution_count": null,
   "metadata": {},
   "outputs": [],
   "source": [
    "# def get_preferred_user_for_user(data_to_use):\n",
    "#     users_distinct = data_to_use[]\n",
    "#     pass"
   ]
  }
 ],
 "metadata": {
  "kernelspec": {
   "display_name": "Python 3",
   "language": "python",
   "name": "python3"
  },
  "language_info": {
   "codemirror_mode": {
    "name": "ipython",
    "version": 3
   },
   "file_extension": ".py",
   "mimetype": "text/x-python",
   "name": "python",
   "nbconvert_exporter": "python",
   "pygments_lexer": "ipython3",
   "version": "3.7.2"
  }
 },
 "nbformat": 4,
 "nbformat_minor": 2
}
